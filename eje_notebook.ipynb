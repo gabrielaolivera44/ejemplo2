{
 "cells": [
  {
   "cell_type": "code",
   "execution_count": 6,
   "metadata": {},
   "outputs": [
    {
     "name": "stdout",
     "output_type": "stream",
     "text": [
      "¿Cuánto cuesta 1 segundo de comunicacion?: 1\n",
      "¿Cuántas comunicaciones hubo?: 2\n",
      "¿Cuántas horas?: 1\n",
      "¿Cuántos minutos?: 1\n",
      "¿Cuántos segundos?: 1\n",
      "Duracion:  3661 segundos. Costo:  3661 $.\n",
      "¿Cuántas horas?: 2\n",
      "¿Cuántos minutos?: 2\n",
      "¿Cuántos segundos?: 2\n",
      "Duracion:  7322 segundos. Costo:  7322 $.\n"
     ]
    }
   ],
   "source": [
    "def main():\n",
    "    \"\"\" El usuario ingresa la tarifa por segundo, cuántas \n",
    "    comunicaciones se realizaron, y la duracion de cada\n",
    "    comunicación expresada en horas, minutos y segundos. Como\n",
    "    resultado se informa la duración en segundos de cada\n",
    "    comunicación y su costo. \"\"\"\n",
    "    \n",
    "    f = int(input(\"¿Cuánto cuesta 1 segundo de comunicacion?: \"))\n",
    "    n = int(input(\"¿Cuántas comunicaciones hubo?: \"))\n",
    "    \n",
    "    for x in range(n):\n",
    "        hs = int(input(\"¿Cuántas horas?: \"))\n",
    "        min = int(input(\"¿Cuántos minutos?: \"))\n",
    "        seg = int(input(\"¿Cuántos segundos?: \"))\n",
    "        segcalc = asegundos(hs, min, seg)\n",
    "        costo = segcalc * f\n",
    "        print (\"Duracion: \", segcalc, \"segundos. Costo: \",costo, \"$.\")\n",
    "\n",
    "def asegundos (horas, minutos, segundos):\n",
    "    segsal = (3600 * horas) + (60 * minutos) + segundos\n",
    "    return segsal\n",
    "\n",
    "main()"
   ]
  },
  {
   "cell_type": "code",
   "execution_count": null,
   "metadata": {},
   "outputs": [],
   "source": []
  }
 ],
 "metadata": {
  "kernelspec": {
   "display_name": "Python 3",
   "language": "python",
   "name": "python3"
  },
  "language_info": {
   "codemirror_mode": {
    "name": "ipython",
    "version": 3
   },
   "file_extension": ".py",
   "mimetype": "text/x-python",
   "name": "python",
   "nbconvert_exporter": "python",
   "pygments_lexer": "ipython3",
   "version": "3.7.1"
  }
 },
 "nbformat": 4,
 "nbformat_minor": 2
}
